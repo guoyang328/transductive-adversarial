{
 "cells": [
  {
   "cell_type": "markdown",
   "metadata": {},
   "source": [
    "# This file recreates the random forest experiments the anonymous NeurIPS submission."
   ]
  },
  {
   "cell_type": "code",
   "execution_count": 1,
   "metadata": {},
   "outputs": [],
   "source": [
    "%matplotlib inline\n",
    "import numpy as np\n",
    "import matplotlib.pyplot as plt\n",
    "\n",
    "from sklearn.model_selection import train_test_split\n",
    "import random\n",
    "import PIL\n",
    "import glob\n",
    "import time\n",
    "from collections import Counter\n",
    "from sklearn.ensemble import RandomForestClassifier"
   ]
  },
  {
   "cell_type": "code",
   "execution_count": 2,
   "metadata": {},
   "outputs": [],
   "source": [
    "# Helper functions\n",
    "\n",
    "def reseed(seed=0):\n",
    "    random.seed(seed)\n",
    "    np.random.seed(seed)\n",
    "    \n",
    "def rand(maxi=10**9):\n",
    "    return np.random.randint(maxi)\n",
    "\n",
    "def flatten(X):\n",
    "    return X.reshape(X.shape[0], -1)\n",
    "\n",
    "def viz(images, num_images=30, cols = 10, seed=None, shuffle=True):    \n",
    "    if seed:\n",
    "        reseed(seed)        \n",
    "    m = min(len(images), num_images)\n",
    "    if shuffle:\n",
    "        pi = np.random.permutation(len(images))[:m]\n",
    "    else:\n",
    "        pi = list(range(m))\n",
    "    n = (num_images + cols-1)//cols    \n",
    "    fig = plt.figure(figsize=(10,(10*n)//10))\n",
    "    for j, i in enumerate(pi):\n",
    "      plt.subplot(n,cols,j+1)\n",
    "      plt.tight_layout()\n",
    "      plt.imshow(images[i], cmap=\"gray\")\n",
    "      plt.xticks([])\n",
    "      plt.yticks([])\n",
    "    \n",
    "def Classifier():\n",
    "    return RandomForestClassifier(n_estimators=100, random_state=rand()) # n_estimators is now default 100"
   ]
  },
  {
   "cell_type": "markdown",
   "metadata": {},
   "source": [
    "# Load data and take most common letters"
   ]
  },
  {
   "cell_type": "code",
   "execution_count": 3,
   "metadata": {},
   "outputs": [
    {
     "data": {
      "text/plain": [
       "['balanced', 'byclass', 'bymerge', 'digits', 'letters', 'mnist']"
      ]
     },
     "execution_count": 3,
     "metadata": {},
     "output_type": "execute_result"
    }
   ],
   "source": [
    "import emnist \n",
    "emnist.list_datasets()"
   ]
  },
  {
   "cell_type": "code",
   "execution_count": 4,
   "metadata": {},
   "outputs": [
    {
     "data": {
      "text/plain": [
       "((814255, 28, 28), (814255,))"
      ]
     },
     "execution_count": 4,
     "metadata": {},
     "output_type": "execute_result"
    }
   ],
   "source": [
    "emnist_map = '0123456789ABCDEFGHIJKLMNOPQRSTUVWXYZabcdefghijklmnopqrstuvwxyz'\n",
    "emnist_inv_map = {c: i for i, c in enumerate(emnist_map)}\n",
    "emnist_X_train, emnist_y_train = emnist.extract_training_samples('byclass')\n",
    "emnist_X_test, emnist_y_test = emnist.extract_test_samples('byclass')\n",
    "emnist_X = np.vstack([emnist_X_train, emnist_X_test])\n",
    "emnist_y = np.hstack([emnist_y_train, emnist_y_test])\n",
    "emnist_X.shape, emnist_y.shape"
   ]
  },
  {
   "cell_type": "code",
   "execution_count": 5,
   "metadata": {},
   "outputs": [],
   "source": [
    "lower_counts = Counter([emnist_map[i] for y in (emnist_y_train, emnist_y_test) for i in y if emnist_map[i].islower()])\n",
    "upper_counts = Counter([emnist_map[i] for y in (emnist_y_train, emnist_y_test) for i in y if emnist_map[i].isupper()])\n",
    "# plt.scatter([lower_counts[c] for c in sorted(options)], [upper_counts[c.upper()] for c in sorted(options)])"
   ]
  },
  {
   "cell_type": "code",
   "execution_count": 6,
   "metadata": {},
   "outputs": [
    {
     "data": {
      "text/plain": [
       "[(28723, 'e', 5785, 'E'),\n",
       " (21227, 't', 11396, 'T'),\n",
       " (17853, 'l', 5886, 'L'),\n",
       " (16425, 'r', 5882, 'R'),\n",
       " (13316, 'n', 9588, 'N'),\n",
       " (11860, 'd', 5341, 'D'),\n",
       " (11677, 'a', 7469, 'A'),\n",
       " (10217, 'h', 3673, 'H'),\n",
       " (6012, 'b', 4526, 'B'),\n",
       " (4276, 'g', 2964, 'G'),\n",
       " (3499, 'q', 3018, 'Q'),\n",
       " (3378, 'v', 5433, 'V'),\n",
       " (3312, 'u', 14604, 'U'),\n",
       " (3292, 'x', 3203, 'X'),\n",
       " (3286, 'c', 11833, 'C'),\n",
       " (3215, 'o', 29139, 'O'),\n",
       " (3176, 'z', 3165, 'Z'),\n",
       " (3164, 'w', 5501, 'W'),\n",
       " (3152, 'i', 13994, 'I'),\n",
       " (3136, 's', 24272, 'S'),\n",
       " (3109, 'm', 10487, 'M'),\n",
       " (2961, 'f', 10622, 'F'),\n",
       " (2957, 'k', 2850, 'K'),\n",
       " (2816, 'p', 9744, 'P'),\n",
       " (2746, 'y', 5541, 'Y'),\n",
       " (2213, 'j', 4388, 'J')]"
      ]
     },
     "execution_count": 6,
     "metadata": {},
     "output_type": "execute_result"
    }
   ],
   "source": [
    "sorted([(l, c, upper_counts[c.upper()], c.upper()) for c, l in lower_counts.most_common()], key = lambda z: (-z[0],-z[2]))"
   ]
  },
  {
   "cell_type": "code",
   "execution_count": 7,
   "metadata": {},
   "outputs": [
    {
     "data": {
      "text/plain": [
       "('etlrndah', 'ETLRNDAH', 8, (10217, 3673))"
      ]
     },
     "execution_count": 7,
     "metadata": {},
     "output_type": "execute_result"
    }
   ],
   "source": [
    "N_per_class = 10*1000, 3*1000\n",
    "chars = \"\".join([c for c, l in lower_counts.most_common() if l>=N_per_class[0] and upper_counts[c.upper()]>N_per_class[1]])\n",
    "CHARS = chars.upper()\n",
    "min_counts = min(lower_counts[c] for c in chars), min(upper_counts[c] for c in CHARS)\n",
    "chars, CHARS, len(chars), min_counts"
   ]
  },
  {
   "cell_type": "code",
   "execution_count": 8,
   "metadata": {},
   "outputs": [],
   "source": [
    "def extract(train, test, chars, num_per_class=None):\n",
    "    ids = {emnist_inv_map[c] for c in chars}\n",
    "    ans = [(x, chars.index(emnist_map[y])) for x, y in zip(train, test) if y in ids]\n",
    "    if num_per_class is not None:\n",
    "        random.shuffle(ans)\n",
    "        counts = {}\n",
    "        def helper(z):\n",
    "            x, y = z\n",
    "            counts[y] = counts.setdefault(y, 0) + 1\n",
    "            return counts[y]<=num_per_class\n",
    "        ans = list(filter(helper, ans))\n",
    "    return np.array([x for x, y in ans]), np.array([y for x, y in ans])            "
   ]
  },
  {
   "cell_type": "code",
   "execution_count": 9,
   "metadata": {},
   "outputs": [],
   "source": [
    "reseed(0)\n",
    "\n",
    "# P is lowercase letters\n",
    "PX_all, Py_all = extract(emnist_X, emnist_y, chars, num_per_class=N_per_class[0])"
   ]
  },
  {
   "cell_type": "code",
   "execution_count": 10,
   "metadata": {},
   "outputs": [],
   "source": [
    "# Save some P examples for later use in Q\n",
    "n_donate = 3000*len(chars) # donate from P to Q\n",
    "assert n_donate < len(PX_all)\n",
    "\n",
    "PX, PX_donate, Py, Py_donate = train_test_split(PX_all, Py_all, test_size=n_donate, shuffle=True, stratify=Py_all, random_state=rand())"
   ]
  },
  {
   "cell_type": "code",
   "execution_count": 11,
   "metadata": {},
   "outputs": [
    {
     "name": "stdout",
     "output_type": "stream",
     "text": [
      "error rates: P_train, P_test\n",
      "[0.0, 0.03642857142857143]\n"
     ]
    }
   ],
   "source": [
    "PX_train, PX_test, Py_train, Py_test = train_test_split(PX, Py, test_size=0.1, shuffle=True, random_state=rand())\n",
    "clf = Classifier()\n",
    "clf.fit(flatten(PX_train), Py_train)\n",
    "print(\"error rates: P_train, P_test\")\n",
    "print([np.mean(clf.predict(flatten(X))!=y) for X, y in [(PX_train, Py_train), (PX_test, Py_test)]])"
   ]
  },
  {
   "cell_type": "code",
   "execution_count": 12,
   "metadata": {},
   "outputs": [],
   "source": [
    "def go(QX, Qy, clf, plot_max_p_rej=0.5, fig_filename=None, fig_title=None, y_ticks=True, legend=False):\n",
    "    QX_train, QX_test, Qy_train, Qy_test = train_test_split(QX, Qy, test_size=0.1, shuffle=True, random_state=rand())\n",
    "\n",
    "    dist = Classifier()\n",
    "    print(f\"Training distinguisher on {len(PX_train):,} P vs {len(QX_train):,} Q\")\n",
    "    dist.fit(flatten(np.vstack([PX_train] + [QX_train])), [0 for _ in PX_train]+[1 for _ in QX_train])\n",
    "    print(dist)\n",
    "    print(\"Distinguisher prob of test: [PX_train, QX_train, PX_test, QX_test]\")\n",
    "    print([np.mean(dist.predict(flatten(X))) for X in [PX_train, QX_train, PX_test, QX_test]])\n",
    "    print(\"Distinguisher mean probabilities: [PX_train, QX_train, PX_test, QX_test]\")\n",
    "    print([np.mean(dist.predict_proba(flatten(X))[:, 1]) for X in [PX_train, QX_train, PX_test, QX_test]])\n",
    "    print()\n",
    "    errors = (clf.predict(flatten(QX_test))!=Qy_test)\n",
    "    # sel = (dist.predict(flatten(QX_test))==0)\n",
    "    # P_rej_rate = np.mean(dist.predict(flatten(PX_test))==1)\n",
    "    # print(1-np.mean(sel), P_rej_rate, np.mean(errors), np.mean(errors[sel]), np.sum(errors[sel])/len(sel))\n",
    "    Pdist_hat = dist.predict_proba(flatten(PX_test))[:, 1]\n",
    "    Qdist_hat = dist.predict_proba(flatten(QX_test))[:, 1]\n",
    "\n",
    "    thresholds = np.linspace(0.0, 1, 100)\n",
    "    p_rejs = [np.mean(Pdist_hat>tau) for tau in thresholds]\n",
    "    thresholds = [t for t, r in zip(thresholds, p_rejs) if r<plot_max_p_rej]\n",
    "\n",
    "    p_rejs = [np.mean(Pdist_hat>tau) for tau in thresholds]\n",
    "    \n",
    "    rejs = [np.mean(Qdist_hat>tau) for tau in thresholds]\n",
    "#     errs = [np.sum(errors[Qdist_hat<=tau])/len(Qdist_hat) for tau in thresholds]\n",
    "    normalized_errs = [np.mean(errors[Qdist_hat<=tau]) for tau in thresholds]\n",
    "#     plt.plot(rejs, errs, label=\"Unnormalized error\")\n",
    "    plt.figure(figsize=(2.8,2))\n",
    "    plt.ylim((-0.03,0.55))\n",
    "    if not y_ticks:\n",
    "        ax = plt.gca()\n",
    "        ax.set_yticklabels([])\n",
    "    if fig_title:\n",
    "        plt.title(fig_title)\n",
    "    plt.plot(*zip(*[(r, e) for r, e in zip(rejs, normalized_errs) if not np.isnan(e)]), label=r'Err on $Q$')\n",
    "    plt.plot(rejs, p_rejs, label=r'Rej on $P$')    \n",
    "#     tots = [np.sum(errors[Qdist_hat<=tau])/len(Qdist_hat) + np.mean(Pdist_hat>tau) for tau in thresholds]\n",
    "#     plt.plot(rejs, tots, label=\"$err_P+rej_Q$\")\n",
    "    plt.xlabel(r'Rejection rate on $Q$')  \n",
    "    # plt.ylabel(\"Error rate\")\n",
    "    if legend:\n",
    "        plt.legend()#loc=2, prop={'size': 6})\n",
    "    if fig_filename:\n",
    "        plt.savefig(fig_filename, bbox_inches = \"tight\")\n",
    "        \n",
    "    return clf, dist"
   ]
  },
  {
   "cell_type": "code",
   "execution_count": 13,
   "metadata": {},
   "outputs": [
    {
     "name": "stdout",
     "output_type": "stream",
     "text": [
      "Below are errors (1 per class) on held out letters:  ['a', 'd', 'e', 'h', 'l', 'n', 'r', 't']\n"
     ]
    },
    {
     "data": {
      "image/png": "[encoded data removed]",
      "text/plain": [
       "<Figure size 720x216 with 8 Axes>"
      ]
     },
     "metadata": {},
     "output_type": "display_data"
    }
   ],
   "source": [
    "# here adversary inserts nasty misclassified examples!\n",
    "N_evil = 3000\n",
    "X_donated_errors = []\n",
    "y_donated_errors = []\n",
    "seen = set()\n",
    "for x, err, y in zip(PX_donate, clf.predict(flatten(PX_donate))!=Py_donate, Py_donate):\n",
    "    if err and y not in seen:\n",
    "        seen.add(y)\n",
    "        X_donated_errors.append(x)\n",
    "        y_donated_errors.append(y)\n",
    "\n",
    "\n",
    "print(\"Below are errors (1 per class) on held out letters: \", sorted(chars))\n",
    "viz([X_donated_errors[i] for i in np.argsort([chars[y] for y in y_donated_errors])], shuffle=False)"
   ]
  },
  {
   "cell_type": "code",
   "execution_count": 14,
   "metadata": {},
   "outputs": [
    {
     "data": {
      "text/plain": [
       "(24000, 24000)"
      ]
     },
     "execution_count": 14,
     "metadata": {},
     "output_type": "execute_result"
    }
   ],
   "source": [
    "# add minimal changes\n",
    "height, width = X_donated_errors[0].shape\n",
    "max_change = 4\n",
    "\n",
    "EX = []\n",
    "Ey = []\n",
    "\n",
    "changes = []\n",
    "\n",
    "seen = set()\n",
    "\n",
    "for X_orig, y in zip(X_donated_errors, y_donated_errors):\n",
    "    i, j, change = 0, 0, max(-max_change-1, -X_orig[0, 0])\n",
    "    for _ in range(N_evil):    \n",
    "        X = X_orig.copy()\n",
    "        change += 1\n",
    "        if change == 0:\n",
    "            change = 1\n",
    "        if change > max_change or int(X[i, j]) + change >= 255:\n",
    "            i += 1\n",
    "            if i==height:\n",
    "                i = 0\n",
    "                j += 1\n",
    "            change = -max_change-1 if X[i, j]>=max_change else 1\n",
    "        old = X[i, j]\n",
    "        X[i, j] += change\n",
    "        changes.append((y, i, j, change, old, X[i, j]))\n",
    "        assert old != X[i, j]\n",
    "        encoding = tuple(z for r in X for z in r)\n",
    "        assert encoding not in seen\n",
    "        seen.add(encoding)\n",
    "        EX.append(X)\n",
    "        Ey.append(y)\n",
    "#         print(len({np.sum(mask.dot(X)) for X in EX}), len(EX), len(changes), len(set(changes)), changes[-1])\n",
    "        \n",
    "EX, Ey = np.array(EX), np.array(Ey)\n",
    "len(EX), len(Ey)# Q is evil adversary"
   ]
  },
  {
   "cell_type": "code",
   "execution_count": 15,
   "metadata": {},
   "outputs": [
    {
     "data": {
      "image/png": "[encoded data removed]",
      "text/plain": [
       "<Figure size 720x216 with 30 Axes>"
      ]
     },
     "metadata": {},
     "output_type": "display_data"
    }
   ],
   "source": [
    "viz(EX, shuffle=False)"
   ]
  },
  {
   "cell_type": "code",
   "execution_count": 16,
   "metadata": {},
   "outputs": [
    {
     "name": "stdout",
     "output_type": "stream",
     "text": [
      "Training distinguisher on 50,400 P vs 43,200 Q\n",
      "RandomForestClassifier(bootstrap=True, class_weight=None, criterion='gini',\n",
      "                       max_depth=None, max_features='auto', max_leaf_nodes=None,\n",
      "                       min_impurity_decrease=0.0, min_impurity_split=None,\n",
      "                       min_samples_leaf=1, min_samples_split=2,\n",
      "                       min_weight_fraction_leaf=0.0, n_estimators=100,\n",
      "                       n_jobs=None, oob_score=False, random_state=441365315,\n",
      "                       verbose=0, warm_start=False)\n",
      "Distinguisher prob of test: [PX_train, QX_train, PX_test, QX_test]\n",
      "[0.0, 1.0, 0.004464285714285714, 0.4997916666666667]\n",
      "Distinguisher mean probabilities: [PX_train, QX_train, PX_test, QX_test]\n",
      "[0.1175809523809524, 0.8747576388888889, 0.3188678571428571, 0.65715]\n",
      "\n"
     ]
    },
    {
     "data": {
      "image/png": "[encoded data removed]",
      "text/plain": [
       "<Figure size 201.6x144 with 1 Axes>"
      ]
     },
     "metadata": {
      "needs_background": "light"
     },
     "output_type": "display_data"
    }
   ],
   "source": [
    "QEX = np.vstack([PX_donate, EX]) \n",
    "QEy = np.hstack([Py_donate, Ey]) \n",
    "E_dist = go(QEX, QEy, clf, fig_title=r\"Random Forest (Adv)\", legend=False, y_ticks=False,fig_filename=\"RF_adv.png\")"
   ]
  },
  {
   "cell_type": "code",
   "execution_count": 17,
   "metadata": {},
   "outputs": [
    {
     "name": "stdout",
     "output_type": "stream",
     "text": [
      "Training distinguisher on 50,400 P vs 43,200 Q\n",
      "RandomForestClassifier(bootstrap=True, class_weight=None, criterion='gini',\n",
      "                       max_depth=None, max_features='auto', max_leaf_nodes=None,\n",
      "                       min_impurity_decrease=0.0, min_impurity_split=None,\n",
      "                       min_samples_leaf=1, min_samples_split=2,\n",
      "                       min_weight_fraction_leaf=0.0, n_estimators=100,\n",
      "                       n_jobs=None, oob_score=False, random_state=192771779,\n",
      "                       verbose=0, warm_start=False)\n",
      "Distinguisher prob of test: [PX_train, QX_train, PX_test, QX_test]\n",
      "[0.0, 1.0, 0.09446428571428571, 0.5235416666666667]\n",
      "Distinguisher mean probabilities: [PX_train, QX_train, PX_test, QX_test]\n",
      "[0.1361063492063492, 0.8467965277777778, 0.3700053571428572, 0.578825]\n",
      "\n"
     ]
    },
    {
     "data": {
      "image/png": "[encoded data removed]",
      "text/plain": [
       "<Figure size 201.6x144 with 1 Axes>"
      ]
     },
     "metadata": {
      "needs_background": "light"
     },
     "output_type": "display_data"
    }
   ],
   "source": [
    "# QU is lower/upper adversary\n",
    "UX, Uy = extract(emnist_X, emnist_y, CHARS, num_per_class=N_per_class[1])    \n",
    "\n",
    "QUX = np.vstack([PX_donate, UX]) \n",
    "QUy = np.hstack([Py_donate, Uy]) \n",
    "U_dist = go(QUX, QUy, clf, fig_title=r\"Random Forest (Nat)\", legend=True, y_ticks=False, fig_filename=\"RF_nat.png\")"
   ]
  },
  {
   "cell_type": "code",
   "execution_count": 18,
   "metadata": {},
   "outputs": [
    {
     "name": "stdout",
     "output_type": "stream",
     "text": [
      "error rates: P_train, P_test, U, E\n",
      "[0.0, 0.03642857142857143, 0.5359583333333333, 0.9943333333333333]\n"
     ]
    }
   ],
   "source": [
    "print(\"error rates: P_train, P_test, U, E\")\n",
    "print([np.mean(clf.predict(flatten(X))!=y) for X, y in [(PX_train, Py_train), (PX_test, Py_test), (UX, Uy), (EX, Ey)]])"
   ]
  }
 ],
 "metadata": {
  "kernelspec": {
   "display_name": "Python 3",
   "language": "python",
   "name": "python3"
  },
  "language_info": {
   "codemirror_mode": {
    "name": "ipython",
    "version": 3
   },
   "file_extension": ".py",
   "mimetype": "text/x-python",
   "name": "python",
   "nbconvert_exporter": "python",
   "pygments_lexer": "ipython3",
   "version": "3.8.3"
  }
 },
 "nbformat": 4,
 "nbformat_minor": 2
}
